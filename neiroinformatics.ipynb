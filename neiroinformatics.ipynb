{
  "nbformat": 4,
  "nbformat_minor": 0,
  "metadata": {
    "colab": {
      "provenance": [],
      "gpuType": "T4",
      "toc_visible": true
    },
    "kernelspec": {
      "name": "python3",
      "display_name": "Python 3"
    },
    "language_info": {
      "name": "python"
    },
    "accelerator": "GPU"
  },
  "cells": [
    {
      "cell_type": "code",
      "execution_count": 2,
      "metadata": {
        "colab": {
          "base_uri": "https://localhost:8080/"
        },
        "id": "H7ygT8vISvRN",
        "outputId": "195becb8-a5ac-4174-9174-23c87c6dfd25"
      },
      "outputs": [
        {
          "output_type": "stream",
          "name": "stdout",
          "text": [
            "Requirement already satisfied: lightfm in /usr/local/lib/python3.10/dist-packages (1.17)\n",
            "Requirement already satisfied: numpy in /usr/local/lib/python3.10/dist-packages (from lightfm) (1.26.4)\n",
            "Requirement already satisfied: scipy>=0.17.0 in /usr/local/lib/python3.10/dist-packages (from lightfm) (1.13.1)\n",
            "Requirement already satisfied: requests in /usr/local/lib/python3.10/dist-packages (from lightfm) (2.32.3)\n",
            "Requirement already satisfied: scikit-learn in /usr/local/lib/python3.10/dist-packages (from lightfm) (1.5.2)\n",
            "Requirement already satisfied: charset-normalizer<4,>=2 in /usr/local/lib/python3.10/dist-packages (from requests->lightfm) (3.4.0)\n",
            "Requirement already satisfied: idna<4,>=2.5 in /usr/local/lib/python3.10/dist-packages (from requests->lightfm) (3.10)\n",
            "Requirement already satisfied: urllib3<3,>=1.21.1 in /usr/local/lib/python3.10/dist-packages (from requests->lightfm) (2.2.3)\n",
            "Requirement already satisfied: certifi>=2017.4.17 in /usr/local/lib/python3.10/dist-packages (from requests->lightfm) (2024.8.30)\n",
            "Requirement already satisfied: joblib>=1.2.0 in /usr/local/lib/python3.10/dist-packages (from scikit-learn->lightfm) (1.4.2)\n",
            "Requirement already satisfied: threadpoolctl>=3.1.0 in /usr/local/lib/python3.10/dist-packages (from scikit-learn->lightfm) (3.5.0)\n",
            "Requirement already satisfied: pandas in /usr/local/lib/python3.10/dist-packages (2.2.2)\n",
            "Requirement already satisfied: numpy>=1.22.4 in /usr/local/lib/python3.10/dist-packages (from pandas) (1.26.4)\n",
            "Requirement already satisfied: python-dateutil>=2.8.2 in /usr/local/lib/python3.10/dist-packages (from pandas) (2.8.2)\n",
            "Requirement already satisfied: pytz>=2020.1 in /usr/local/lib/python3.10/dist-packages (from pandas) (2024.2)\n",
            "Requirement already satisfied: tzdata>=2022.7 in /usr/local/lib/python3.10/dist-packages (from pandas) (2024.2)\n",
            "Requirement already satisfied: six>=1.5 in /usr/local/lib/python3.10/dist-packages (from python-dateutil>=2.8.2->pandas) (1.16.0)\n",
            "Requirement already satisfied: kaggle in /usr/local/lib/python3.10/dist-packages (1.6.17)\n",
            "Requirement already satisfied: six>=1.10 in /usr/local/lib/python3.10/dist-packages (from kaggle) (1.16.0)\n",
            "Requirement already satisfied: certifi>=2023.7.22 in /usr/local/lib/python3.10/dist-packages (from kaggle) (2024.8.30)\n",
            "Requirement already satisfied: python-dateutil in /usr/local/lib/python3.10/dist-packages (from kaggle) (2.8.2)\n",
            "Requirement already satisfied: requests in /usr/local/lib/python3.10/dist-packages (from kaggle) (2.32.3)\n",
            "Requirement already satisfied: tqdm in /usr/local/lib/python3.10/dist-packages (from kaggle) (4.66.6)\n",
            "Requirement already satisfied: python-slugify in /usr/local/lib/python3.10/dist-packages (from kaggle) (8.0.4)\n",
            "Requirement already satisfied: urllib3 in /usr/local/lib/python3.10/dist-packages (from kaggle) (2.2.3)\n",
            "Requirement already satisfied: bleach in /usr/local/lib/python3.10/dist-packages (from kaggle) (6.2.0)\n",
            "Requirement already satisfied: webencodings in /usr/local/lib/python3.10/dist-packages (from bleach->kaggle) (0.5.1)\n",
            "Requirement already satisfied: text-unidecode>=1.3 in /usr/local/lib/python3.10/dist-packages (from python-slugify->kaggle) (1.3)\n",
            "Requirement already satisfied: charset-normalizer<4,>=2 in /usr/local/lib/python3.10/dist-packages (from requests->kaggle) (3.4.0)\n",
            "Requirement already satisfied: idna<4,>=2.5 in /usr/local/lib/python3.10/dist-packages (from requests->kaggle) (3.10)\n",
            "Dataset URL: https://www.kaggle.com/datasets/rdoume/beerreviews\n",
            "License(s): unknown\n",
            "beerreviews.zip: Skipping, found more recently modified local copy (use --force to force download)\n",
            "Archive:  beerreviews.zip\n",
            "replace beer_reviews.csv? [y]es, [n]o, [A]ll, [N]one, [r]ename: y\n",
            "  inflating: beer_reviews.csv        \n"
          ]
        }
      ],
      "source": [
        "!pip install lightfm\n",
        "!pip install pandas\n",
        "!pip install kaggle\n",
        "!kaggle datasets download -d rdoume/beerreviews\n",
        "!unzip beerreviews.zip"
      ]
    },
    {
      "cell_type": "code",
      "source": [
        "from scipy.sparse import coo_matrix\n",
        "from google.colab import files\n",
        "import os\n",
        "import numpy as np\n",
        "from sklearn.preprocessing import LabelEncoder\n",
        "from sklearn.model_selection import train_test_split\n",
        "from sklearn.ensemble import RandomForestClassifier\n",
        "from sklearn.utils import shuffle\n",
        "import pandas as pd\n",
        "import time\n",
        "from sklearn.metrics import accuracy_score\n",
        "from imblearn.over_sampling import SMOTE\n",
        "from sklearn.preprocessing import LabelEncoder, StandardScaler\n",
        "from sklearn.neural_network import MLPClassifier\n",
        "from sklearn.ensemble import GradientBoostingClassifier\n",
        "from sklearn.metrics import accuracy_score\n",
        "from sklearn.utils import shuffle\n",
        "from sklearn.preprocessing import StandardScaler\n",
        "from collections import Counter"
      ],
      "metadata": {
        "id": "1hXXOuuyS_Zf"
      },
      "execution_count": 3,
      "outputs": []
    },
    {
      "cell_type": "code",
      "source": [
        "data = pd.read_csv('beer_reviews.csv')"
      ],
      "metadata": {
        "id": "TjP5h6urU7nh"
      },
      "execution_count": 4,
      "outputs": []
    },
    {
      "cell_type": "code",
      "source": [
        "data = data.dropna(subset=[\"review_profilename\", \"beer_name\", \"beer_beerid\"])\n",
        "data = data[[\"review_profilename\", \"beer_beerid\", \"beer_name\", \"review_overall\"]]"
      ],
      "metadata": {
        "id": "yhTUh-2h2XWQ"
      },
      "execution_count": 5,
      "outputs": []
    },
    {
      "cell_type": "code",
      "source": [
        "data['id'] = range(1, len(data) + 1)"
      ],
      "metadata": {
        "id": "Lrx-Og1D8zuX"
      },
      "execution_count": 17,
      "outputs": []
    },
    {
      "cell_type": "code",
      "source": [
        "unique_users = data['review_profilename'].unique()\n",
        "num_users = len(unique_users)\n",
        "user_features = pd.DataFrame({\n",
        "    'review_profilename': unique_users,\n",
        "    'age': np.random.randint(18, 65, size=num_users),\n",
        "    'gender': np.random.choice(['М', 'Ж'], size=num_users),\n",
        "    'location': np.random.choice(['Москва', 'Питер', 'Казань', 'Белгород'], size=num_users),\n",
        "})"
      ],
      "metadata": {
        "id": "RyQX0uupVtCv"
      },
      "execution_count": 7,
      "outputs": []
    },
    {
      "cell_type": "code",
      "source": [
        "data = pd.merge(data, user_features, on='review_profilename')"
      ],
      "metadata": {
        "id": "eOo8tn1JtNQY"
      },
      "execution_count": 8,
      "outputs": []
    },
    {
      "cell_type": "code",
      "source": [
        "le_beer = LabelEncoder()\n",
        "data['beer_beerid_encoded'] = le_beer.fit_transform(data['beer_beerid'])"
      ],
      "metadata": {
        "id": "wMpsAdTwtTzf"
      },
      "execution_count": 9,
      "outputs": []
    },
    {
      "cell_type": "code",
      "source": [
        "X = data[['age', 'gender', 'location']]\n",
        "X = pd.get_dummies(X, columns=['gender', 'location'])\n",
        "y = data['beer_beerid_encoded']"
      ],
      "metadata": {
        "id": "Bsi0k8-ftWGO"
      },
      "execution_count": 10,
      "outputs": []
    },
    {
      "cell_type": "code",
      "source": [
        "subset_size = 1000\n",
        "X_train, X_test, y_train, y_test = train_test_split(X, y, test_size=0.2, random_state=42)\n",
        "X_train_small, y_train_small = shuffle(X_train, y_train, random_state=42)\n",
        "X_train_subset = X_train_small[:subset_size]\n",
        "y_train_subset = y_train_small[:subset_size]"
      ],
      "metadata": {
        "id": "jGBY7OK0aEx4"
      },
      "execution_count": 11,
      "outputs": []
    },
    {
      "cell_type": "code",
      "source": [
        "scaler = StandardScaler()\n",
        "X_train_subset = scaler.fit_transform(X_train_subset)"
      ],
      "metadata": {
        "id": "gEObiavm3Tpj"
      },
      "execution_count": 12,
      "outputs": []
    },
    {
      "cell_type": "code",
      "source": [
        "min_samples = 3\n",
        "class_counts = Counter(y_train_subset)\n",
        "valid_classes = {cls for cls, count in class_counts.items() if count >= min_samples}\n",
        "\n",
        "X_train_filtered = []\n",
        "y_train_filtered = []\n",
        "\n",
        "for x, y in zip(X_train_subset, y_train_subset):\n",
        "    if y in valid_classes:\n",
        "        X_train_filtered.append(x)\n",
        "        y_train_filtered.append(y)\n",
        "\n",
        "X_train_filtered = np.array(X_train_filtered)\n",
        "y_train_filtered = np.array(y_train_filtered)\n",
        "\n",
        "print(\"Распределение классов после фильтрации:\", Counter(y_train_filtered))"
      ],
      "metadata": {
        "colab": {
          "base_uri": "https://localhost:8080/"
        },
        "id": "puBRWJ9w3aG8",
        "outputId": "181e16a3-1990-4f6c-c036-1b9262cf17b5"
      },
      "execution_count": 13,
      "outputs": [
        {
          "output_type": "stream",
          "name": "stdout",
          "text": [
            "Распределение классов после фильтрации: Counter({2877: 5, 22886: 4, 874: 4, 9546: 4, 1166: 3, 1003: 3, 115: 3, 1819: 3, 692: 3, 92: 3, 934: 3, 1783: 3, 91: 3, 1621: 3, 24513: 3, 64: 3, 179: 3, 714: 3, 400: 3, 312: 3, 27365: 3, 44810: 3, 2898: 3, 666: 3, 1233: 3})\n"
          ]
        }
      ]
    },
    {
      "cell_type": "code",
      "source": [
        "model = GradientBoostingClassifier(n_estimators=50, max_depth=3, random_state=42)\n",
        "\n",
        "model.fit(X_train_filtered, y_train_filtered)\n",
        "\n",
        "y_pred = model.predict(X_train_filtered)\n",
        "\n",
        "# Считаем точность\n",
        "accuracy = accuracy_score(y_train_filtered, y_pred)\n",
        "print(f\"Точность модели: {accuracy:.4f}\")\n"
      ],
      "metadata": {
        "id": "FGbf0d7vaGiW",
        "colab": {
          "base_uri": "https://localhost:8080/"
        },
        "outputId": "4d5803bd-7e54-4910-a2c3-0fffe393562a"
      },
      "execution_count": 14,
      "outputs": [
        {
          "output_type": "stream",
          "name": "stdout",
          "text": [
            "Точность модели: 0.9125\n"
          ]
        }
      ]
    },
    {
      "cell_type": "code",
      "source": [
        "print(\"Введите ваши данные:\")\n",
        "try:\n",
        "    user_age = int(input(\"Ваш возраст: \"))\n",
        "    user_gender = input(\"Ваш пол (м/ж): \").strip().lower()\n",
        "    user_location = input(\"Ваш город: \").strip()\n",
        "\n",
        "    # Проверка пола\n",
        "    if user_gender == 'м':\n",
        "        user_gender = 'Male'\n",
        "    elif user_gender == 'ж':\n",
        "        user_gender = 'Female'\n",
        "    else:\n",
        "        print(\"Ошибка: Некорректный ввод пола. Используйте 'м' или 'ж'.\")\n",
        "        exit()\n",
        "\n",
        "    # Проверка города\n",
        "    if user_location not in ['USA', 'Canada', 'UK', 'Germany']:\n",
        "        print(\"Ошибка: Город должен быть одним из ['USA', 'Canada', 'UK', 'Germany'].\")\n",
        "        exit()\n",
        "\n",
        "    user_data = pd.DataFrame([{\n",
        "        'age': user_age,\n",
        "        'gender': user_gender,\n",
        "        'location': user_location,\n",
        "    }])\n",
        "    user_data = pd.get_dummies(user_data, columns=['gender', 'location'])\n",
        "    user_data = user_data.reindex(columns=X.columns, fill_value=0)\n",
        "\n",
        "    predictions_proba = model.predict_proba(user_data)[0]\n",
        "\n",
        "    top_5_indices = predictions_proba.argsort()[-5:][::-1]\n",
        "    top_5_beers = le_beer.inverse_transform(top_5_indices)\n",
        "\n",
        "    beer_names_dict = {id_: f\"Пиво {id_}\" for id_ in top_5_beers}\n",
        "\n",
        "    print(\"Мы рекомендуем вам попробовать следующие 5 сортов пива:\")\n",
        "    for beer_id in top_5_beers:\n",
        "        beer_name = data.loc[beer_id, 'beer_name'] if beer_id in data.index else \"Неизвестное пиво\"\n",
        "        print(f\"- {beer_name} (ID: {beer_id})\")\n",
        "except ValueError:\n",
        "    print(\"Ошибка: Пожалуйста, введите числовое значение для возраста.\")\n"
      ],
      "metadata": {
        "id": "3iDHyzHuBFPQ",
        "colab": {
          "base_uri": "https://localhost:8080/"
        },
        "outputId": "38bb77f6-78e8-4cd1-a7aa-31f6e2c0130d"
      },
      "execution_count": 30,
      "outputs": [
        {
          "output_type": "stream",
          "name": "stdout",
          "text": [
            "Введите ваши данные:\n",
            "Ваш возраст: 19\n",
            "Ваш пол (м/ж): ж\n",
            "Ваш город: USA\n",
            "Мы рекомендуем вам попробовать следующие 5 сортов пива:\n",
            "- Rauch Ür Bock (ID: 24)\n",
            "- Rauch Ür Bock (ID: 23)\n",
            "- Caldera OBF 15 (ID: 17)\n",
            "- Caldera Ginger Beer (ID: 13)\n",
            "- Cauldron DIPA (ID: 4)\n"
          ]
        },
        {
          "output_type": "stream",
          "name": "stderr",
          "text": [
            "/usr/local/lib/python3.10/dist-packages/sklearn/base.py:486: UserWarning: X has feature names, but GradientBoostingClassifier was fitted without feature names\n",
            "  warnings.warn(\n"
          ]
        }
      ]
    },
    {
      "cell_type": "code",
      "source": [
        "from google.colab import files\n",
        "\n",
        "files.download('model.joblib')\n"
      ],
      "metadata": {
        "colab": {
          "base_uri": "https://localhost:8080/",
          "height": 17
        },
        "id": "BxSclsnYAeLo",
        "outputId": "098490e5-449b-4aaa-ecad-ff20003ec5e5"
      },
      "execution_count": 32,
      "outputs": [
        {
          "output_type": "display_data",
          "data": {
            "text/plain": [
              "<IPython.core.display.Javascript object>"
            ],
            "application/javascript": [
              "\n",
              "    async function download(id, filename, size) {\n",
              "      if (!google.colab.kernel.accessAllowed) {\n",
              "        return;\n",
              "      }\n",
              "      const div = document.createElement('div');\n",
              "      const label = document.createElement('label');\n",
              "      label.textContent = `Downloading \"${filename}\": `;\n",
              "      div.appendChild(label);\n",
              "      const progress = document.createElement('progress');\n",
              "      progress.max = size;\n",
              "      div.appendChild(progress);\n",
              "      document.body.appendChild(div);\n",
              "\n",
              "      const buffers = [];\n",
              "      let downloaded = 0;\n",
              "\n",
              "      const channel = await google.colab.kernel.comms.open(id);\n",
              "      // Send a message to notify the kernel that we're ready.\n",
              "      channel.send({})\n",
              "\n",
              "      for await (const message of channel.messages) {\n",
              "        // Send a message to notify the kernel that we're ready.\n",
              "        channel.send({})\n",
              "        if (message.buffers) {\n",
              "          for (const buffer of message.buffers) {\n",
              "            buffers.push(buffer);\n",
              "            downloaded += buffer.byteLength;\n",
              "            progress.value = downloaded;\n",
              "          }\n",
              "        }\n",
              "      }\n",
              "      const blob = new Blob(buffers, {type: 'application/binary'});\n",
              "      const a = document.createElement('a');\n",
              "      a.href = window.URL.createObjectURL(blob);\n",
              "      a.download = filename;\n",
              "      div.appendChild(a);\n",
              "      a.click();\n",
              "      div.remove();\n",
              "    }\n",
              "  "
            ]
          },
          "metadata": {}
        },
        {
          "output_type": "display_data",
          "data": {
            "text/plain": [
              "<IPython.core.display.Javascript object>"
            ],
            "application/javascript": [
              "download(\"download_c8672a3b-a29f-4b13-ae8f-a3beb88a6c01\", \"model.joblib\", 2163756)"
            ]
          },
          "metadata": {}
        }
      ]
    }
  ]
}