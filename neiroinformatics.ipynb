{
  "nbformat": 4,
  "nbformat_minor": 0,
  "metadata": {
    "colab": {
      "provenance": [],
      "gpuType": "T4"
    },
    "kernelspec": {
      "name": "python3",
      "display_name": "Python 3"
    },
    "language_info": {
      "name": "python"
    },
    "accelerator": "GPU"
  },
  "cells": [
    {
      "cell_type": "code",
      "execution_count": null,
      "metadata": {
        "colab": {
          "base_uri": "https://localhost:8080/"
        },
        "id": "H7ygT8vISvRN",
        "outputId": "9e125e01-c1b6-4931-dd02-05da69a8ea08"
      },
      "outputs": [
        {
          "output_type": "stream",
          "name": "stdout",
          "text": [
            "Requirement already satisfied: lightfm in /usr/local/lib/python3.10/dist-packages (1.17)\n",
            "Requirement already satisfied: numpy in /usr/local/lib/python3.10/dist-packages (from lightfm) (1.26.4)\n",
            "Requirement already satisfied: scipy>=0.17.0 in /usr/local/lib/python3.10/dist-packages (from lightfm) (1.13.1)\n",
            "Requirement already satisfied: requests in /usr/local/lib/python3.10/dist-packages (from lightfm) (2.32.3)\n",
            "Requirement already satisfied: scikit-learn in /usr/local/lib/python3.10/dist-packages (from lightfm) (1.5.2)\n",
            "Requirement already satisfied: charset-normalizer<4,>=2 in /usr/local/lib/python3.10/dist-packages (from requests->lightfm) (3.4.0)\n",
            "Requirement already satisfied: idna<4,>=2.5 in /usr/local/lib/python3.10/dist-packages (from requests->lightfm) (3.10)\n",
            "Requirement already satisfied: urllib3<3,>=1.21.1 in /usr/local/lib/python3.10/dist-packages (from requests->lightfm) (2.2.3)\n",
            "Requirement already satisfied: certifi>=2017.4.17 in /usr/local/lib/python3.10/dist-packages (from requests->lightfm) (2024.8.30)\n",
            "Requirement already satisfied: joblib>=1.2.0 in /usr/local/lib/python3.10/dist-packages (from scikit-learn->lightfm) (1.4.2)\n",
            "Requirement already satisfied: threadpoolctl>=3.1.0 in /usr/local/lib/python3.10/dist-packages (from scikit-learn->lightfm) (3.5.0)\n",
            "Requirement already satisfied: pandas in /usr/local/lib/python3.10/dist-packages (2.2.2)\n",
            "Requirement already satisfied: numpy>=1.22.4 in /usr/local/lib/python3.10/dist-packages (from pandas) (1.26.4)\n",
            "Requirement already satisfied: python-dateutil>=2.8.2 in /usr/local/lib/python3.10/dist-packages (from pandas) (2.8.2)\n",
            "Requirement already satisfied: pytz>=2020.1 in /usr/local/lib/python3.10/dist-packages (from pandas) (2024.2)\n",
            "Requirement already satisfied: tzdata>=2022.7 in /usr/local/lib/python3.10/dist-packages (from pandas) (2024.2)\n",
            "Requirement already satisfied: six>=1.5 in /usr/local/lib/python3.10/dist-packages (from python-dateutil>=2.8.2->pandas) (1.16.0)\n",
            "Requirement already satisfied: kaggle in /usr/local/lib/python3.10/dist-packages (1.6.17)\n",
            "Requirement already satisfied: six>=1.10 in /usr/local/lib/python3.10/dist-packages (from kaggle) (1.16.0)\n",
            "Requirement already satisfied: certifi>=2023.7.22 in /usr/local/lib/python3.10/dist-packages (from kaggle) (2024.8.30)\n",
            "Requirement already satisfied: python-dateutil in /usr/local/lib/python3.10/dist-packages (from kaggle) (2.8.2)\n",
            "Requirement already satisfied: requests in /usr/local/lib/python3.10/dist-packages (from kaggle) (2.32.3)\n",
            "Requirement already satisfied: tqdm in /usr/local/lib/python3.10/dist-packages (from kaggle) (4.66.6)\n",
            "Requirement already satisfied: python-slugify in /usr/local/lib/python3.10/dist-packages (from kaggle) (8.0.4)\n",
            "Requirement already satisfied: urllib3 in /usr/local/lib/python3.10/dist-packages (from kaggle) (2.2.3)\n",
            "Requirement already satisfied: bleach in /usr/local/lib/python3.10/dist-packages (from kaggle) (6.2.0)\n",
            "Requirement already satisfied: webencodings in /usr/local/lib/python3.10/dist-packages (from bleach->kaggle) (0.5.1)\n",
            "Requirement already satisfied: text-unidecode>=1.3 in /usr/local/lib/python3.10/dist-packages (from python-slugify->kaggle) (1.3)\n",
            "Requirement already satisfied: charset-normalizer<4,>=2 in /usr/local/lib/python3.10/dist-packages (from requests->kaggle) (3.4.0)\n",
            "Requirement already satisfied: idna<4,>=2.5 in /usr/local/lib/python3.10/dist-packages (from requests->kaggle) (3.10)\n",
            "Dataset URL: https://www.kaggle.com/datasets/rdoume/beerreviews\n",
            "License(s): unknown\n",
            "beerreviews.zip: Skipping, found more recently modified local copy (use --force to force download)\n",
            "Archive:  beerreviews.zip\n",
            "replace beer_reviews.csv? [y]es, [n]o, [A]ll, [N]one, [r]ename: "
          ]
        }
      ],
      "source": [
        "!pip install lightfm\n",
        "!pip install pandas\n",
        "!pip install kaggle\n",
        "!kaggle datasets download -d rdoume/beerreviews\n",
        "!unzip beerreviews.zip\n"
      ]
    },
    {
      "cell_type": "code",
      "source": [
        "from scipy.sparse import coo_matrix\n",
        "from google.colab import files\n",
        "import os\n",
        "import numpy as np\n",
        "from sklearn.preprocessing import LabelEncoder\n",
        "from sklearn.model_selection import train_test_split\n",
        "from sklearn.ensemble import RandomForestClassifier\n",
        "from sklearn.utils import shuffle\n",
        "import pandas as pd\n",
        "import time\n",
        "from sklearn.metrics import accuracy_score\n",
        "from imblearn.over_sampling import SMOTE\n",
        "from sklearn.preprocessing import LabelEncoder, StandardScaler\n",
        "from sklearn.neural_network import MLPClassifier"
      ],
      "metadata": {
        "id": "1hXXOuuyS_Zf"
      },
      "execution_count": null,
      "outputs": []
    },
    {
      "cell_type": "code",
      "source": [
        "data = pd.read_csv('beer_reviews.csv')"
      ],
      "metadata": {
        "id": "TjP5h6urU7nh"
      },
      "execution_count": null,
      "outputs": []
    },
    {
      "cell_type": "code",
      "source": [
        "data = data.dropna(subset=[\"review_profilename\", \"beer_name\", \"beer_beerid\"])\n",
        "data = data[[\"review_profilename\", \"beer_beerid\", \"beer_name\", \"review_overall\"]]"
      ],
      "metadata": {
        "id": "yhTUh-2h2XWQ"
      },
      "execution_count": null,
      "outputs": []
    },
    {
      "cell_type": "code",
      "source": [
        "unique_users = data['review_profilename'].unique()\n",
        "num_users = len(unique_users)\n",
        "user_features = pd.DataFrame({\n",
        "    'review_profilename': unique_users,\n",
        "    'age': np.random.randint(18, 65, size=num_users),\n",
        "    'gender': np.random.choice(['М', 'Ж'], size=num_users),\n",
        "    'location': np.random.choice(['Москва', 'Питер', 'Казань', 'Белгород'], size=num_users),\n",
        "})"
      ],
      "metadata": {
        "id": "RyQX0uupVtCv"
      },
      "execution_count": null,
      "outputs": []
    },
    {
      "cell_type": "code",
      "source": [
        "data = pd.merge(data, user_features, on='review_profilename')"
      ],
      "metadata": {
        "id": "eOo8tn1JtNQY"
      },
      "execution_count": null,
      "outputs": []
    },
    {
      "cell_type": "code",
      "source": [
        "le_beer = LabelEncoder()\n",
        "data['beer_beerid_encoded'] = le_beer.fit_transform(data['beer_beerid'])"
      ],
      "metadata": {
        "id": "wMpsAdTwtTzf"
      },
      "execution_count": null,
      "outputs": []
    },
    {
      "cell_type": "code",
      "source": [
        "X = data[['age', 'gender', 'location']]\n",
        "X = pd.get_dummies(X, columns=['gender', 'location'])\n",
        "y = data['beer_beerid_encoded']\n"
      ],
      "metadata": {
        "id": "Bsi0k8-ftWGO"
      },
      "execution_count": null,
      "outputs": []
    },
    {
      "cell_type": "code",
      "source": [
        "print(data.head)"
      ],
      "metadata": {
        "id": "dSONtg8tZwCO"
      },
      "execution_count": null,
      "outputs": []
    },
    {
      "cell_type": "code",
      "source": [
        "X_train, X_test, y_train, y_test = train_test_split(X, y, test_size=0.2, random_state=42)"
      ],
      "metadata": {
        "id": "jGBY7OK0aEx4"
      },
      "execution_count": null,
      "outputs": []
    },
    {
      "cell_type": "code",
      "source": [
        "model = RandomForestClassifier(n_estimators=10, warm_start=True)\n",
        "for epoch in range(1, 11):\n",
        "    model.n_estimators += 1\n",
        "    model.fit(X_train, y_train)\n",
        "    y_pred = model.predict(X_train)\n",
        "    accuracy = accuracy_score(y_train, y_pred)\n",
        "    print(f\"Эпоха {epoch}: Точность: {accuracy:.4f}\")"
      ],
      "metadata": {
        "id": "FGbf0d7vaGiW"
      },
      "execution_count": null,
      "outputs": []
    },
    {
      "cell_type": "code",
      "source": [
        "y_pred = model.predict(X_test)\n",
        "accuracy = accuracy_score(y_test, y_pred)\n",
        "print(f\"Точность модели на тестовых данных: {accuracy:.2f}\")"
      ],
      "metadata": {
        "id": "CTy5Gn2Fp0sh"
      },
      "execution_count": null,
      "outputs": []
    },
    {
      "cell_type": "code",
      "source": [
        "print(\"Введите ваши данные:\")\n",
        "try:\n",
        "    user_age = int(input(\"Ваш возраст: \"))\n",
        "    user_gender = input(\"Ваш пол (м/ж): \").strip().lower()\n",
        "    user_location = input(\"Ваш город: \").strip()\n",
        "\n",
        "    # Проверка пола\n",
        "    if user_gender == 'м':\n",
        "        user_gender = 'Male'\n",
        "    elif user_gender == 'ж':\n",
        "        user_gender = 'Female'\n",
        "    else:\n",
        "        print(\"Ошибка: Некорректный ввод пола. Используйте 'м' или 'ж'.\")\n",
        "        exit()\n",
        "\n",
        "    # Проверка города\n",
        "    if user_location not in ['USA', 'Canada', 'UK', 'Germany']:\n",
        "        print(\"Ошибка: Город должен быть одним из ['USA', 'Canada', 'UK', 'Germany'].\")\n",
        "        exit()\n",
        "\n",
        "    # Подготовка данных для предсказания\n",
        "    user_data = pd.DataFrame([{\n",
        "        'age': user_age,\n",
        "        'gender': user_gender,\n",
        "        'location': user_location,\n",
        "    }])\n",
        "    user_data = pd.get_dummies(user_data, columns=['gender', 'location'])\n",
        "    user_data = user_data.reindex(columns=X.columns, fill_value=0)\n",
        "\n",
        "    # Предсказание\n",
        "    predicted_beer_id = model.predict(user_data)[0]\n",
        "    predicted_beer_name = le_beer.inverse_transform([predicted_beer_id])[0]\n",
        "\n",
        "        print(f\"Мы рекомендуем вам попробовать пиво: {predicted_beer_name}\")\n",
        "\n",
        "except ValueError:\n",
        "    print(\"Ошибка: Пожалуйста, введите числовое значение для возраста.\")\n"
      ],
      "metadata": {
        "id": "3iDHyzHuBFPQ"
      },
      "execution_count": null,
      "outputs": []
    },
    {
      "cell_type": "code",
      "source": [],
      "metadata": {
        "id": "0KqeHjAwBF48"
      },
      "execution_count": null,
      "outputs": []
    }
  ]
}