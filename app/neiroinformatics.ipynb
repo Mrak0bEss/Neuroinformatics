{
  "nbformat": 4,
  "nbformat_minor": 0,
  "metadata": {
    "colab": {
      "provenance": [],
      "gpuType": "T4",
      "toc_visible": true
    },
    "kernelspec": {
      "name": "python3",
      "display_name": "Python 3"
    },
    "language_info": {
      "name": "python"
    },
    "accelerator": "GPU"
  },
  "cells": [
    {
      "cell_type": "code",
      "execution_count": 1,
      "metadata": {
        "colab": {
          "base_uri": "https://localhost:8080/"
        },
        "id": "H7ygT8vISvRN",
        "outputId": "26255ff5-fba7-49db-ccb8-4a12c3f9a8d5"
      },
      "outputs": [
        {
          "output_type": "stream",
          "name": "stdout",
          "text": [
            "Collecting lightfm\n",
            "  Downloading lightfm-1.17.tar.gz (316 kB)\n",
            "\u001b[?25l     \u001b[90m━━━━━━━━━━━━━━━━━━━━━━━━━━━━━━━━━━━━━━━━\u001b[0m \u001b[32m0.0/316.4 kB\u001b[0m \u001b[31m?\u001b[0m eta \u001b[36m-:--:--\u001b[0m\r\u001b[2K     \u001b[91m━━━━━━━━━━━━━━━━━━━━━━━━━━━━━━━━━━━━━━\u001b[0m\u001b[91m╸\u001b[0m\u001b[90m━\u001b[0m \u001b[32m307.2/316.4 kB\u001b[0m \u001b[31m11.8 MB/s\u001b[0m eta \u001b[36m0:00:01\u001b[0m\r\u001b[2K     \u001b[90m━━━━━━━━━━━━━━━━━━━━━━━━━━━━━━━━━━━━━━━━\u001b[0m \u001b[32m316.4/316.4 kB\u001b[0m \u001b[31m8.6 MB/s\u001b[0m eta \u001b[36m0:00:00\u001b[0m\n",
            "\u001b[?25h  Preparing metadata (setup.py) ... \u001b[?25l\u001b[?25hdone\n",
            "Requirement already satisfied: numpy in /usr/local/lib/python3.10/dist-packages (from lightfm) (1.26.4)\n",
            "Requirement already satisfied: scipy>=0.17.0 in /usr/local/lib/python3.10/dist-packages (from lightfm) (1.13.1)\n",
            "Requirement already satisfied: requests in /usr/local/lib/python3.10/dist-packages (from lightfm) (2.32.3)\n",
            "Requirement already satisfied: scikit-learn in /usr/local/lib/python3.10/dist-packages (from lightfm) (1.6.0)\n",
            "Requirement already satisfied: charset-normalizer<4,>=2 in /usr/local/lib/python3.10/dist-packages (from requests->lightfm) (3.4.1)\n",
            "Requirement already satisfied: idna<4,>=2.5 in /usr/local/lib/python3.10/dist-packages (from requests->lightfm) (3.10)\n",
            "Requirement already satisfied: urllib3<3,>=1.21.1 in /usr/local/lib/python3.10/dist-packages (from requests->lightfm) (2.3.0)\n",
            "Requirement already satisfied: certifi>=2017.4.17 in /usr/local/lib/python3.10/dist-packages (from requests->lightfm) (2024.12.14)\n",
            "Requirement already satisfied: joblib>=1.2.0 in /usr/local/lib/python3.10/dist-packages (from scikit-learn->lightfm) (1.4.2)\n",
            "Requirement already satisfied: threadpoolctl>=3.1.0 in /usr/local/lib/python3.10/dist-packages (from scikit-learn->lightfm) (3.5.0)\n",
            "Building wheels for collected packages: lightfm\n",
            "  Building wheel for lightfm (setup.py) ... \u001b[?25l\u001b[?25hdone\n",
            "  Created wheel for lightfm: filename=lightfm-1.17-cp310-cp310-linux_x86_64.whl size=808330 sha256=8a23477e9ef9d6c73d8c5bf94de67f70f7bc71ff015dc6c36237249fed1eadd8\n",
            "  Stored in directory: /root/.cache/pip/wheels/4f/9b/7e/0b256f2168511d8fa4dae4fae0200fdbd729eb424a912ad636\n",
            "Successfully built lightfm\n",
            "Installing collected packages: lightfm\n",
            "Successfully installed lightfm-1.17\n",
            "Requirement already satisfied: pandas in /usr/local/lib/python3.10/dist-packages (2.2.2)\n",
            "Requirement already satisfied: numpy>=1.22.4 in /usr/local/lib/python3.10/dist-packages (from pandas) (1.26.4)\n",
            "Requirement already satisfied: python-dateutil>=2.8.2 in /usr/local/lib/python3.10/dist-packages (from pandas) (2.8.2)\n",
            "Requirement already satisfied: pytz>=2020.1 in /usr/local/lib/python3.10/dist-packages (from pandas) (2024.2)\n",
            "Requirement already satisfied: tzdata>=2022.7 in /usr/local/lib/python3.10/dist-packages (from pandas) (2024.2)\n",
            "Requirement already satisfied: six>=1.5 in /usr/local/lib/python3.10/dist-packages (from python-dateutil>=2.8.2->pandas) (1.17.0)\n",
            "Requirement already satisfied: kaggle in /usr/local/lib/python3.10/dist-packages (1.6.17)\n",
            "Requirement already satisfied: six>=1.10 in /usr/local/lib/python3.10/dist-packages (from kaggle) (1.17.0)\n",
            "Requirement already satisfied: certifi>=2023.7.22 in /usr/local/lib/python3.10/dist-packages (from kaggle) (2024.12.14)\n",
            "Requirement already satisfied: python-dateutil in /usr/local/lib/python3.10/dist-packages (from kaggle) (2.8.2)\n",
            "Requirement already satisfied: requests in /usr/local/lib/python3.10/dist-packages (from kaggle) (2.32.3)\n",
            "Requirement already satisfied: tqdm in /usr/local/lib/python3.10/dist-packages (from kaggle) (4.67.1)\n",
            "Requirement already satisfied: python-slugify in /usr/local/lib/python3.10/dist-packages (from kaggle) (8.0.4)\n",
            "Requirement already satisfied: urllib3 in /usr/local/lib/python3.10/dist-packages (from kaggle) (2.3.0)\n",
            "Requirement already satisfied: bleach in /usr/local/lib/python3.10/dist-packages (from kaggle) (6.2.0)\n",
            "Requirement already satisfied: webencodings in /usr/local/lib/python3.10/dist-packages (from bleach->kaggle) (0.5.1)\n",
            "Requirement already satisfied: text-unidecode>=1.3 in /usr/local/lib/python3.10/dist-packages (from python-slugify->kaggle) (1.3)\n",
            "Requirement already satisfied: charset-normalizer<4,>=2 in /usr/local/lib/python3.10/dist-packages (from requests->kaggle) (3.4.1)\n",
            "Requirement already satisfied: idna<4,>=2.5 in /usr/local/lib/python3.10/dist-packages (from requests->kaggle) (3.10)\n",
            "Dataset URL: https://www.kaggle.com/datasets/rdoume/beerreviews\n",
            "License(s): unknown\n",
            "Downloading beerreviews.zip to /content\n",
            " 91% 25.0M/27.4M [00:00<00:00, 41.5MB/s]\n",
            "100% 27.4M/27.4M [00:00<00:00, 39.9MB/s]\n",
            "Archive:  beerreviews.zip\n",
            "  inflating: beer_reviews.csv        \n",
            "Collecting catboost\n",
            "  Downloading catboost-1.2.7-cp310-cp310-manylinux2014_x86_64.whl.metadata (1.2 kB)\n",
            "Requirement already satisfied: graphviz in /usr/local/lib/python3.10/dist-packages (from catboost) (0.20.3)\n",
            "Requirement already satisfied: matplotlib in /usr/local/lib/python3.10/dist-packages (from catboost) (3.10.0)\n",
            "Requirement already satisfied: numpy<2.0,>=1.16.0 in /usr/local/lib/python3.10/dist-packages (from catboost) (1.26.4)\n",
            "Requirement already satisfied: pandas>=0.24 in /usr/local/lib/python3.10/dist-packages (from catboost) (2.2.2)\n",
            "Requirement already satisfied: scipy in /usr/local/lib/python3.10/dist-packages (from catboost) (1.13.1)\n",
            "Requirement already satisfied: plotly in /usr/local/lib/python3.10/dist-packages (from catboost) (5.24.1)\n",
            "Requirement already satisfied: six in /usr/local/lib/python3.10/dist-packages (from catboost) (1.17.0)\n",
            "Requirement already satisfied: python-dateutil>=2.8.2 in /usr/local/lib/python3.10/dist-packages (from pandas>=0.24->catboost) (2.8.2)\n",
            "Requirement already satisfied: pytz>=2020.1 in /usr/local/lib/python3.10/dist-packages (from pandas>=0.24->catboost) (2024.2)\n",
            "Requirement already satisfied: tzdata>=2022.7 in /usr/local/lib/python3.10/dist-packages (from pandas>=0.24->catboost) (2024.2)\n",
            "Requirement already satisfied: contourpy>=1.0.1 in /usr/local/lib/python3.10/dist-packages (from matplotlib->catboost) (1.3.1)\n",
            "Requirement already satisfied: cycler>=0.10 in /usr/local/lib/python3.10/dist-packages (from matplotlib->catboost) (0.12.1)\n",
            "Requirement already satisfied: fonttools>=4.22.0 in /usr/local/lib/python3.10/dist-packages (from matplotlib->catboost) (4.55.3)\n",
            "Requirement already satisfied: kiwisolver>=1.3.1 in /usr/local/lib/python3.10/dist-packages (from matplotlib->catboost) (1.4.8)\n",
            "Requirement already satisfied: packaging>=20.0 in /usr/local/lib/python3.10/dist-packages (from matplotlib->catboost) (24.2)\n",
            "Requirement already satisfied: pillow>=8 in /usr/local/lib/python3.10/dist-packages (from matplotlib->catboost) (11.1.0)\n",
            "Requirement already satisfied: pyparsing>=2.3.1 in /usr/local/lib/python3.10/dist-packages (from matplotlib->catboost) (3.2.1)\n",
            "Requirement already satisfied: tenacity>=6.2.0 in /usr/local/lib/python3.10/dist-packages (from plotly->catboost) (9.0.0)\n",
            "Downloading catboost-1.2.7-cp310-cp310-manylinux2014_x86_64.whl (98.7 MB)\n",
            "\u001b[2K   \u001b[90m━━━━━━━━━━━━━━━━━━━━━━━━━━━━━━━━━━━━━━━━\u001b[0m \u001b[32m98.7/98.7 MB\u001b[0m \u001b[31m9.3 MB/s\u001b[0m eta \u001b[36m0:00:00\u001b[0m\n",
            "\u001b[?25hInstalling collected packages: catboost\n",
            "Successfully installed catboost-1.2.7\n"
          ]
        }
      ],
      "source": [
        "!pip install lightfm\n",
        "!pip install pandas\n",
        "!pip install kaggle\n",
        "!kaggle datasets download -d rdoume/beerreviews\n",
        "!unzip beerreviews.zip\n",
        "!pip install catboost"
      ]
    },
    {
      "cell_type": "code",
      "source": [
        "import numpy as np\n",
        "import pandas as pd\n",
        "from sklearn.preprocessing import LabelEncoder, StandardScaler\n",
        "from sklearn.model_selection import train_test_split\n",
        "from sklearn.metrics import accuracy_score\n",
        "from collections import Counter\n",
        "from sklearn.utils import shuffle\n",
        "from catboost import CatBoostClassifier\n",
        "from google.colab import files"
      ],
      "metadata": {
        "id": "1hXXOuuyS_Zf"
      },
      "execution_count": 17,
      "outputs": []
    },
    {
      "cell_type": "code",
      "source": [
        "data = pd.read_csv('beer_reviews.csv')"
      ],
      "metadata": {
        "id": "TjP5h6urU7nh"
      },
      "execution_count": 3,
      "outputs": []
    },
    {
      "cell_type": "code",
      "source": [
        "data = data.dropna(subset=[\"review_profilename\", \"beer_name\", \"beer_beerid\"])\n",
        "data = data[[\"review_profilename\", \"beer_beerid\", \"beer_name\", \"review_overall\"]]"
      ],
      "metadata": {
        "id": "yhTUh-2h2XWQ"
      },
      "execution_count": 4,
      "outputs": []
    },
    {
      "cell_type": "code",
      "source": [
        "data['id'] = range(1, len(data) + 1)"
      ],
      "metadata": {
        "id": "Lrx-Og1D8zuX"
      },
      "execution_count": 5,
      "outputs": []
    },
    {
      "cell_type": "code",
      "source": [
        "unique_users = data['review_profilename'].unique()\n",
        "num_users = len(unique_users)\n",
        "user_features = pd.DataFrame({\n",
        "    'review_profilename': unique_users,\n",
        "    'age': np.random.randint(18, 65, size=num_users),\n",
        "    'gender': np.random.choice(['М', 'Ж'], size=num_users),\n",
        "    'location': np.random.choice(['Москва', 'Питер', 'Казань', 'Белгород'], size=num_users),\n",
        "})"
      ],
      "metadata": {
        "id": "RyQX0uupVtCv"
      },
      "execution_count": 6,
      "outputs": []
    },
    {
      "cell_type": "code",
      "source": [
        "data = pd.merge(data, user_features, on='review_profilename')"
      ],
      "metadata": {
        "id": "eOo8tn1JtNQY"
      },
      "execution_count": 7,
      "outputs": []
    },
    {
      "cell_type": "code",
      "source": [
        "le_beer = LabelEncoder()\n",
        "data['beer_beerid_encoded'] = le_beer.fit_transform(data['beer_beerid'])"
      ],
      "metadata": {
        "id": "wMpsAdTwtTzf"
      },
      "execution_count": 8,
      "outputs": []
    },
    {
      "cell_type": "code",
      "source": [
        "X = data[['age', 'gender', 'location']]\n",
        "X = pd.get_dummies(X, columns=['gender', 'location'])\n",
        "y = data['beer_beerid_encoded']"
      ],
      "metadata": {
        "id": "Bsi0k8-ftWGO"
      },
      "execution_count": 9,
      "outputs": []
    },
    {
      "cell_type": "code",
      "source": [
        "subset_size = 1000\n",
        "X_train, X_test, y_train, y_test = train_test_split(X, y, test_size=0.2, random_state=42)\n",
        "X_train_small, y_train_small = shuffle(X_train, y_train, random_state=42)\n",
        "X_train_subset = X_train_small[:subset_size]\n",
        "y_train_subset = y_train_small[:subset_size]"
      ],
      "metadata": {
        "id": "jGBY7OK0aEx4"
      },
      "execution_count": 13,
      "outputs": []
    },
    {
      "cell_type": "code",
      "source": [
        "scaler = StandardScaler()\n",
        "X_train_subset = scaler.fit_transform(X_train_subset)"
      ],
      "metadata": {
        "id": "gEObiavm3Tpj"
      },
      "execution_count": 14,
      "outputs": []
    },
    {
      "cell_type": "code",
      "source": [
        "min_samples = 3\n",
        "class_counts = Counter(y_train_subset)\n",
        "valid_classes = {cls for cls, count in class_counts.items() if count >= min_samples}\n",
        "\n",
        "X_train_filtered = []\n",
        "y_train_filtered = []\n",
        "\n",
        "for x, y in zip(X_train_subset, y_train_subset):\n",
        "    if y in valid_classes:\n",
        "        X_train_filtered.append(x)\n",
        "        y_train_filtered.append(y)\n",
        "\n",
        "X_train_filtered = np.array(X_train_filtered)\n",
        "y_train_filtered = np.array(y_train_filtered)\n",
        "\n",
        "print(\"Распределение классов после фильтрации:\", Counter(y_train_filtered))"
      ],
      "metadata": {
        "colab": {
          "base_uri": "https://localhost:8080/"
        },
        "id": "puBRWJ9w3aG8",
        "outputId": "e7fa09f3-038e-46c0-9b22-513f415ec235"
      },
      "execution_count": 15,
      "outputs": [
        {
          "output_type": "stream",
          "name": "stdout",
          "text": [
            "Распределение классов после фильтрации: Counter({2877: 5, 22886: 4, 874: 4, 9546: 4, 1166: 3, 1003: 3, 115: 3, 1819: 3, 692: 3, 92: 3, 934: 3, 1783: 3, 91: 3, 1621: 3, 24513: 3, 64: 3, 179: 3, 714: 3, 400: 3, 312: 3, 27365: 3, 44810: 3, 2898: 3, 666: 3, 1233: 3})\n"
          ]
        }
      ]
    },
    {
      "cell_type": "code",
      "source": [
        "model = CatBoostClassifier(n_estimators=50, max_depth=3, random_state=42, loss_function='MultiClass')\n",
        "model.fit(X_train_filtered, y_train_filtered)\n",
        "y_pred = model.predict(X_train_filtered)"
      ],
      "metadata": {
        "id": "FGbf0d7vaGiW",
        "colab": {
          "base_uri": "https://localhost:8080/"
        },
        "outputId": "57840e8d-8c75-4960-c9d9-a4bf927e143b"
      },
      "execution_count": 21,
      "outputs": [
        {
          "output_type": "stream",
          "name": "stdout",
          "text": [
            "Learning rate set to 0.5\n",
            "0:\tlearn: 3.1319090\ttotal: 584us\tremaining: 28.6ms\n",
            "1:\tlearn: 3.0298801\ttotal: 1.74ms\tremaining: 41.7ms\n",
            "2:\tlearn: 2.9252311\ttotal: 2.88ms\tremaining: 45.1ms\n",
            "3:\tlearn: 2.8754657\ttotal: 3.96ms\tremaining: 45.5ms\n",
            "4:\tlearn: 2.8242373\ttotal: 5.04ms\tremaining: 45.4ms\n",
            "5:\tlearn: 2.7479633\ttotal: 6.12ms\tremaining: 44.9ms\n",
            "6:\tlearn: 2.6964476\ttotal: 7.1ms\tremaining: 43.6ms\n",
            "7:\tlearn: 2.6232177\ttotal: 7.55ms\tremaining: 39.6ms\n",
            "8:\tlearn: 2.5704339\ttotal: 8.33ms\tremaining: 38ms\n",
            "9:\tlearn: 2.5230225\ttotal: 9.08ms\tremaining: 36.3ms\n",
            "10:\tlearn: 2.4743506\ttotal: 9.82ms\tremaining: 34.8ms\n",
            "11:\tlearn: 2.4496809\ttotal: 10.5ms\tremaining: 33.4ms\n",
            "12:\tlearn: 2.3799548\ttotal: 11.3ms\tremaining: 32ms\n",
            "13:\tlearn: 2.3121560\ttotal: 12ms\tremaining: 30.9ms\n",
            "14:\tlearn: 2.2560903\ttotal: 12.8ms\tremaining: 29.8ms\n",
            "15:\tlearn: 2.2026000\ttotal: 13.5ms\tremaining: 28.6ms\n",
            "16:\tlearn: 2.1432214\ttotal: 14.2ms\tremaining: 27.6ms\n",
            "17:\tlearn: 2.1098132\ttotal: 14.9ms\tremaining: 26.5ms\n",
            "18:\tlearn: 2.0725379\ttotal: 15.6ms\tremaining: 25.5ms\n",
            "19:\tlearn: 2.0353598\ttotal: 16.3ms\tremaining: 24.5ms\n",
            "20:\tlearn: 1.9740964\ttotal: 17.1ms\tremaining: 23.6ms\n",
            "21:\tlearn: 1.9348415\ttotal: 17.8ms\tremaining: 22.6ms\n",
            "22:\tlearn: 1.8938288\ttotal: 18.5ms\tremaining: 21.7ms\n",
            "23:\tlearn: 1.8746585\ttotal: 19.2ms\tremaining: 20.8ms\n",
            "24:\tlearn: 1.8389371\ttotal: 19.9ms\tremaining: 19.9ms\n",
            "25:\tlearn: 1.8021230\ttotal: 20.6ms\tremaining: 19ms\n",
            "26:\tlearn: 1.7753672\ttotal: 21.3ms\tremaining: 18.1ms\n",
            "27:\tlearn: 1.7539305\ttotal: 22ms\tremaining: 17.3ms\n",
            "28:\tlearn: 1.7288045\ttotal: 22.7ms\tremaining: 16.5ms\n",
            "29:\tlearn: 1.7033346\ttotal: 23.4ms\tremaining: 15.6ms\n",
            "30:\tlearn: 1.6733775\ttotal: 24.1ms\tremaining: 14.8ms\n",
            "31:\tlearn: 1.6477669\ttotal: 24.9ms\tremaining: 14ms\n",
            "32:\tlearn: 1.6234654\ttotal: 25.6ms\tremaining: 13.2ms\n",
            "33:\tlearn: 1.6087581\ttotal: 26.3ms\tremaining: 12.4ms\n",
            "34:\tlearn: 1.5804835\ttotal: 27ms\tremaining: 11.6ms\n",
            "35:\tlearn: 1.5550720\ttotal: 27.4ms\tremaining: 10.7ms\n",
            "36:\tlearn: 1.5281300\ttotal: 28.2ms\tremaining: 9.9ms\n",
            "37:\tlearn: 1.5034146\ttotal: 28.9ms\tremaining: 9.13ms\n",
            "38:\tlearn: 1.4867182\ttotal: 29.6ms\tremaining: 8.35ms\n",
            "39:\tlearn: 1.4624142\ttotal: 30.3ms\tremaining: 7.59ms\n",
            "40:\tlearn: 1.4440665\ttotal: 31ms\tremaining: 6.81ms\n",
            "41:\tlearn: 1.4228321\ttotal: 31.7ms\tremaining: 6.05ms\n",
            "42:\tlearn: 1.4005489\ttotal: 32.5ms\tremaining: 5.29ms\n",
            "43:\tlearn: 1.3867100\ttotal: 33.2ms\tremaining: 4.53ms\n",
            "44:\tlearn: 1.3676359\ttotal: 33.9ms\tremaining: 3.77ms\n",
            "45:\tlearn: 1.3535395\ttotal: 34.6ms\tremaining: 3.01ms\n",
            "46:\tlearn: 1.3359255\ttotal: 35.1ms\tremaining: 2.24ms\n",
            "47:\tlearn: 1.3235777\ttotal: 35.8ms\tremaining: 1.49ms\n",
            "48:\tlearn: 1.3086554\ttotal: 36.3ms\tremaining: 740us\n",
            "49:\tlearn: 1.2915648\ttotal: 37ms\tremaining: 0us\n"
          ]
        }
      ]
    },
    {
      "cell_type": "code",
      "source": [
        "print(\"Введите ваши данные:\")\n",
        "try:\n",
        "    user_age = int(input(\"Ваш возраст: \"))\n",
        "    user_gender = input(\"Ваш пол (м/ж): \").strip().lower()\n",
        "    user_location = input(\"Ваш город: \").strip()\n",
        "\n",
        "    if user_gender == 'м':\n",
        "        user_gender = 'Male'\n",
        "    elif user_gender == 'ж':\n",
        "        user_gender = 'Female'\n",
        "    else:\n",
        "        print(\"Ошибка: Некорректный ввод пола. Используйте 'м' или 'ж'.\")\n",
        "        exit()\n",
        "\n",
        "    if user_location not in ['Москва', 'Питер', 'Казань', 'Белгород']:\n",
        "        print(\"Ошибка: Город должен быть одним из ['Москва', 'Питер', 'Казань', 'Белгород'].\")\n",
        "        exit()\n",
        "\n",
        "    user_data = pd.DataFrame([{\n",
        "        'age': user_age,\n",
        "        'gender': user_gender,\n",
        "        'location': user_location,\n",
        "    }])\n",
        "    user_data = pd.get_dummies(user_data, columns=['gender', 'location'])\n",
        "    user_data = user_data.reindex(columns=X.columns, fill_value=0)\n",
        "\n",
        "    predictions_proba = model.predict_proba(user_data)[0]\n",
        "\n",
        "    top_5_indices = predictions_proba.argsort()[-5:][::-1]\n",
        "    top_5_beers = le_beer.inverse_transform(top_5_indices)\n",
        "\n",
        "    beer_names_dict = {id_: f\"Пиво {id_}\" for id_ in top_5_beers}\n",
        "\n",
        "    print(\"Мы рекомендуем вам попробовать следующие 5 сортов пива:\")\n",
        "    for beer_id in top_5_beers:\n",
        "        beer_name = data.loc[beer_id, 'beer_name'] if beer_id in data.index else \"Неизвестное пиво\"\n",
        "        print(f\"- {beer_name} (ID: {beer_id})\")\n",
        "except ValueError:\n",
        "    print(\"Ошибка: Пожалуйста, введите числовое значение для возраста.\")"
      ],
      "metadata": {
        "id": "3iDHyzHuBFPQ",
        "colab": {
          "base_uri": "https://localhost:8080/"
        },
        "outputId": "38bb77f6-78e8-4cd1-a7aa-31f6e2c0130d"
      },
      "execution_count": null,
      "outputs": [
        {
          "output_type": "stream",
          "name": "stdout",
          "text": [
            "Введите ваши данные:\n",
            "Ваш возраст: 19\n",
            "Ваш пол (м/ж): ж\n",
            "Ваш город: USA\n",
            "Мы рекомендуем вам попробовать следующие 5 сортов пива:\n",
            "- Rauch Ür Bock (ID: 24)\n",
            "- Rauch Ür Bock (ID: 23)\n",
            "- Caldera OBF 15 (ID: 17)\n",
            "- Caldera Ginger Beer (ID: 13)\n",
            "- Cauldron DIPA (ID: 4)\n"
          ]
        },
        {
          "output_type": "stream",
          "name": "stderr",
          "text": [
            "/usr/local/lib/python3.10/dist-packages/sklearn/base.py:486: UserWarning: X has feature names, but GradientBoostingClassifier was fitted without feature names\n",
            "  warnings.warn(\n"
          ]
        }
      ]
    },
    {
      "cell_type": "code",
      "source": [
        "files.download('model.joblib')"
      ],
      "metadata": {
        "colab": {
          "base_uri": "https://localhost:8080/",
          "height": 17
        },
        "id": "BxSclsnYAeLo",
        "outputId": "098490e5-449b-4aaa-ecad-ff20003ec5e5"
      },
      "execution_count": null,
      "outputs": [
        {
          "output_type": "display_data",
          "data": {
            "text/plain": [
              "<IPython.core.display.Javascript object>"
            ],
            "application/javascript": [
              "\n",
              "    async function download(id, filename, size) {\n",
              "      if (!google.colab.kernel.accessAllowed) {\n",
              "        return;\n",
              "      }\n",
              "      const div = document.createElement('div');\n",
              "      const label = document.createElement('label');\n",
              "      label.textContent = `Downloading \"${filename}\": `;\n",
              "      div.appendChild(label);\n",
              "      const progress = document.createElement('progress');\n",
              "      progress.max = size;\n",
              "      div.appendChild(progress);\n",
              "      document.body.appendChild(div);\n",
              "\n",
              "      const buffers = [];\n",
              "      let downloaded = 0;\n",
              "\n",
              "      const channel = await google.colab.kernel.comms.open(id);\n",
              "      // Send a message to notify the kernel that we're ready.\n",
              "      channel.send({})\n",
              "\n",
              "      for await (const message of channel.messages) {\n",
              "        // Send a message to notify the kernel that we're ready.\n",
              "        channel.send({})\n",
              "        if (message.buffers) {\n",
              "          for (const buffer of message.buffers) {\n",
              "            buffers.push(buffer);\n",
              "            downloaded += buffer.byteLength;\n",
              "            progress.value = downloaded;\n",
              "          }\n",
              "        }\n",
              "      }\n",
              "      const blob = new Blob(buffers, {type: 'application/binary'});\n",
              "      const a = document.createElement('a');\n",
              "      a.href = window.URL.createObjectURL(blob);\n",
              "      a.download = filename;\n",
              "      div.appendChild(a);\n",
              "      a.click();\n",
              "      div.remove();\n",
              "    }\n",
              "  "
            ]
          },
          "metadata": {}
        },
        {
          "output_type": "display_data",
          "data": {
            "text/plain": [
              "<IPython.core.display.Javascript object>"
            ],
            "application/javascript": [
              "download(\"download_c8672a3b-a29f-4b13-ae8f-a3beb88a6c01\", \"model.joblib\", 2163756)"
            ]
          },
          "metadata": {}
        }
      ]
    }
  ]
}